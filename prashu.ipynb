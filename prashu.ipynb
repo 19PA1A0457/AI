{
  "nbformat": 4,
  "nbformat_minor": 0,
  "metadata": {
    "colab": {
      "name": "prashu.ipynb",
      "provenance": []
    },
    "kernelspec": {
      "name": "python3",
      "display_name": "Python 3"
    }
  },
  "cells": [
    {
      "cell_type": "code",
      "metadata": {
        "id": "tF4ZishQjls1",
        "colab_type": "code",
        "colab": {
          "base_uri": "https://localhost:8080/",
          "height": 34
        },
        "outputId": "acee1a3f-4d6e-4561-d607-63549e574d0d"
      },
      "source": [
        "a=10\n",
        "b=5\n",
        "if a>b:\n",
        "  print(\"a is larger\")\n",
        "else:\n",
        "  print(\"b is larger\")"
      ],
      "execution_count": 4,
      "outputs": [
        {
          "output_type": "stream",
          "text": [
            "a is larger\n"
          ],
          "name": "stdout"
        }
      ]
    },
    {
      "cell_type": "code",
      "metadata": {
        "id": "xSvrhWe8nec9",
        "colab_type": "code",
        "colab": {
          "base_uri": "https://localhost:8080/",
          "height": 85
        },
        "outputId": "db5c92db-25d4-495e-da43-1e77a9e2d4d3"
      },
      "source": [
        "n=10\n",
        "for i in range(1,n):\n",
        "  if (i%2==0):\n",
        "    print(\"even num=\",i)\n"
      ],
      "execution_count": 8,
      "outputs": [
        {
          "output_type": "stream",
          "text": [
            "even num= 2\n",
            "even num= 4\n",
            "even num= 6\n",
            "even num= 8\n"
          ],
          "name": "stdout"
        }
      ]
    },
    {
      "cell_type": "code",
      "metadata": {
        "id": "3HTh44iXq_kd",
        "colab_type": "code",
        "colab": {
          "base_uri": "https://localhost:8080/",
          "height": 102
        },
        "outputId": "531ba9b9-425c-4c51-9eb5-654bec39cbdd"
      },
      "source": [
        "n=10\n",
        "for i in range(1,n):\n",
        "  if (i%2!=0):\n",
        "    print(\"odd num=\",i)"
      ],
      "execution_count": 10,
      "outputs": [
        {
          "output_type": "stream",
          "text": [
            "odd num= 1\n",
            "odd num= 3\n",
            "odd num= 5\n",
            "odd num= 7\n",
            "odd num= 9\n"
          ],
          "name": "stdout"
        }
      ]
    }
  ]
}